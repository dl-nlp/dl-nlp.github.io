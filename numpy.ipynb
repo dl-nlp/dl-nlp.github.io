{
 "cells": [
  {
   "cell_type": "markdown",
   "metadata": {},
   "source": [
    "# Deep Learning for NLP WS18/19\n",
    "## Exercise Sheet 3 - numpy\n",
    "This exercise sheet is due on 06.11.18 11:59 pm. Please use Python 3 and send your solutions to\n",
    "[anne.beyer@campus.lmu.de](mailto:anne.beyer@campus.lmu.de)."
   ]
  },
  {
   "cell_type": "markdown",
   "metadata": {},
   "source": [
    "### Warm up\n",
    "You can do the following exercises as a warm up. These will not be graded but should help\n",
    "you get started. Recommended especially for python beginners."
   ]
  },
  {
   "cell_type": "markdown",
   "metadata": {},
   "source": [
    "* import the numpy package under the name np"
   ]
  },
  {
   "cell_type": "code",
   "execution_count": null,
   "metadata": {},
   "outputs": [],
   "source": []
  },
  {
   "cell_type": "markdown",
   "metadata": {},
   "source": [
    "* generate a vector with values ranging from 42 to 80"
   ]
  },
  {
   "cell_type": "code",
   "execution_count": null,
   "metadata": {},
   "outputs": [],
   "source": []
  },
  {
   "cell_type": "markdown",
   "metadata": {},
   "source": [
    "* revert the previously generated vector"
   ]
  },
  {
   "cell_type": "code",
   "execution_count": null,
   "metadata": {},
   "outputs": [],
   "source": []
  },
  {
   "cell_type": "markdown",
   "metadata": {},
   "source": [
    "* create a null vector of size 15 but the third, fifth and eight values set to 1"
   ]
  },
  {
   "cell_type": "code",
   "execution_count": null,
   "metadata": {},
   "outputs": [],
   "source": []
  },
  {
   "cell_type": "markdown",
   "metadata": {},
   "source": [
    "* create a 4x4 matrix with random values"
   ]
  },
  {
   "cell_type": "code",
   "execution_count": null,
   "metadata": {},
   "outputs": [],
   "source": []
  },
  {
   "cell_type": "markdown",
   "metadata": {},
   "source": [
    "### Exercise 1\n",
    "\n"
   ]
  },
  {
   "cell_type": "markdown",
   "metadata": {},
   "source": [
    "* create a 5x5 2d array with 0 on the borders and 1 inside (0.5 p)"
   ]
  },
  {
   "cell_type": "code",
   "execution_count": null,
   "metadata": {},
   "outputs": [],
   "source": []
  },
  {
   "cell_type": "markdown",
   "metadata": {},
   "source": [
    "* create a 4x5 2d array with random values and compute the mean values of each row (0.5 p)"
   ]
  },
  {
   "cell_type": "code",
   "execution_count": null,
   "metadata": {},
   "outputs": [],
   "source": []
  },
  {
   "cell_type": "markdown",
   "metadata": {},
   "source": [
    "* create a vector of size 5 with values drawn from an uniform distribution and sort it (0.5 p)"
   ]
  },
  {
   "cell_type": "code",
   "execution_count": null,
   "metadata": {},
   "outputs": [],
   "source": []
  },
  {
   "cell_type": "markdown",
   "metadata": {},
   "source": [
    "* consider an array of shape (3,4,5), what is the index (x,y,z) of the 30th element? Note that\n",
    "there is a way to find this index directly within numpy (0.5 p)"
   ]
  },
  {
   "cell_type": "code",
   "execution_count": null,
   "metadata": {},
   "outputs": [],
   "source": []
  },
  {
   "cell_type": "markdown",
   "metadata": {},
   "source": [
    "* compute the dot product of a 3x4 and a 4x2 matrix, each containing only ones (0.5 p)"
   ]
  },
  {
   "cell_type": "code",
   "execution_count": null,
   "metadata": {},
   "outputs": [],
   "source": []
  },
  {
   "cell_type": "markdown",
   "metadata": {},
   "source": [
    "* create an array containing all dates of the days you had to work on this sheet including start and\n",
    "end day in the format YYYY-MM-DD. Hint: there is a special data type for dates in numpy (0.5 p)"
   ]
  },
  {
   "cell_type": "code",
   "execution_count": null,
   "metadata": {},
   "outputs": [],
   "source": []
  },
  {
   "cell_type": "markdown",
   "metadata": {},
   "source": [
    "* create a 1d array with 10 random values between 0 and 5 and find the value closest to 4 (1 p)"
   ]
  },
  {
   "cell_type": "code",
   "execution_count": null,
   "metadata": {},
   "outputs": [],
   "source": []
  },
  {
   "cell_type": "markdown",
   "metadata": {},
   "source": [
    "* considering a four dimensions array, get the sums over the first two axis at once (1 p)"
   ]
  },
  {
   "cell_type": "code",
   "execution_count": null,
   "metadata": {},
   "outputs": [],
   "source": []
  },
  {
   "cell_type": "markdown",
   "metadata": {},
   "source": [
    "* given the array [0,1,2,3,4,5,0,2,3,1,2,3,2,3,2] find the most frequent value and its indexes (1 p)"
   ]
  },
  {
   "cell_type": "code",
   "execution_count": 5,
   "metadata": {},
   "outputs": [],
   "source": [
    "x = [0,1,2,3,4,5,0,2,3,1,2,3,2,3,2]"
   ]
  },
  {
   "cell_type": "markdown",
   "metadata": {},
   "source": [
    "* given the array [0,0,1,5,0,2,0,0,3,0] find all indexes of non-zero values and all indexes of values\n",
    "greater than 1 (1 p)"
   ]
  },
  {
   "cell_type": "code",
   "execution_count": 6,
   "metadata": {},
   "outputs": [],
   "source": [
    "x = [0,0,1,5,0,2,0,0,3,0]"
   ]
  },
  {
   "cell_type": "markdown",
   "metadata": {},
   "source": [
    "### Exercise 2\n",
    "#### Derive the gradient of the negative log likelihood for logistic regression (3 p)\n",
    "\n",
    "Negative log likelihood for logistic regression:\n",
    "\n",
    "$$ NLL(\\vec \\theta) =  - \\sum_{i=1}^m y^{(i)} \\log \\sigma(\\vec{\\theta}^T \\vec{x^{(i)}}) + (1-y^{(i)}) \\log (1 - \\sigma(\\vec{\\theta}^T \\vec{x^{(i)}}))$$\n",
    "\n",
    "Derive the expression for\n",
    "\n",
    "$$ \\nabla_\\theta NLL(\\vec \\theta) $$\n",
    "\n",
    "For each step give the exact rule you used.\n",
    "\n",
    "Note that you can use latex math syntax in notebooks."
   ]
  }
 ],
 "metadata": {
  "kernelspec": {
   "display_name": "Python 3",
   "language": "python",
   "name": "python3"
  },
  "language_info": {
   "codemirror_mode": {
    "name": "ipython",
    "version": 3
   },
   "file_extension": ".py",
   "mimetype": "text/x-python",
   "name": "python",
   "nbconvert_exporter": "python",
   "pygments_lexer": "ipython3",
   "version": "3.6.6"
  },
  "name": ""
 },
 "nbformat": 4,
 "nbformat_minor": 1
}
